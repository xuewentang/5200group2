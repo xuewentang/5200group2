{
 "cells": [
  {
   "cell_type": "code",
   "execution_count": 52,
   "metadata": {},
   "outputs": [],
   "source": [
    "import pandas as pd\n",
    "import geopandas as gpd"
   ]
  },
  {
   "cell_type": "code",
   "execution_count": 53,
   "metadata": {},
   "outputs": [],
   "source": [
    "# File paths\n",
    "census_tract_shp = 'chicago_census_tract/geo_export_2d3ffe6a-dd57-46d5-86e3-4f42a4df0e73.shp'\n",
    "crime_csv = 'crime_data/crime_chicago_2001_2024.csv'\n",
    "\n",
    "# Generate list of years from 2001 to 2024\n",
    "years = list(range(2001, 2025))"
   ]
  },
  {
   "cell_type": "code",
   "execution_count": 54,
   "metadata": {},
   "outputs": [],
   "source": [
    "# Read in the census tract shapefile\n",
    "tracts_gdf = gpd.read_file(census_tract_shp)\n",
    "tracts_gdf = tracts_gdf.to_crs(epsg=4326)\n",
    "tracts_gdf = tracts_gdf[['geometry', 'geoid10']]\n",
    "\n",
    "# Read in the crime points data, this is very large dataset\n",
    "crime_df = pd.read_csv(crime_csv)"
   ]
  },
  {
   "cell_type": "code",
   "execution_count": 55,
   "metadata": {},
   "outputs": [],
   "source": [
    "# Define funtion to aggreate crime points counts by census tract, by type of crime\n",
    "def aggregate_points(points_gdf, geometry_gdf):\n",
    "    points_gdf = gpd.sjoin(points_gdf, geometry_gdf, how='inner', predicate='within')\n",
    "    points_gdf = points_gdf.groupby(['geoid10', 'Primary Type']).size().reset_index(name='count')\n",
    "    return points_gdf\n",
    "    "
   ]
  },
  {
   "cell_type": "code",
   "execution_count": 56,
   "metadata": {},
   "outputs": [],
   "source": [
    "# Create an empty dataframe to store the combined results\n",
    "combined_results = pd.DataFrame()\n",
    "\n",
    "# Loop through each year\n",
    "for year in years:\n",
    "    # Filter the crime data for the current year\n",
    "    crime_df_year = crime_df[crime_df['Year'] == year]\n",
    "    \n",
    "    # Convert the filtered crime data to a GeoDataFrame\n",
    "    crime_gdf_year = gpd.GeoDataFrame(crime_df_year, geometry=gpd.points_from_xy(crime_df_year.Longitude, crime_df_year.Latitude))\n",
    "    crime_gdf_year = crime_gdf_year.set_crs(epsg=4326)\n",
    "    \n",
    "    # Aggregate the crime points by census tract\n",
    "    aggregated_points = aggregate_points(crime_gdf_year, tracts_gdf)\n",
    "    \n",
    "    # Add the year to the aggregated points dataframe\n",
    "    aggregated_points['Year'] = year\n",
    "    \n",
    "    # Append the results to the combined dataframe\n",
    "    combined_results = pd.concat([combined_results, aggregated_points], ignore_index=True)"
   ]
  },
  {
   "cell_type": "code",
   "execution_count": 57,
   "metadata": {},
   "outputs": [
    {
     "data": {
      "text/html": [
       "<div>\n",
       "<style scoped>\n",
       "    .dataframe tbody tr th:only-of-type {\n",
       "        vertical-align: middle;\n",
       "    }\n",
       "\n",
       "    .dataframe tbody tr th {\n",
       "        vertical-align: top;\n",
       "    }\n",
       "\n",
       "    .dataframe thead th {\n",
       "        text-align: right;\n",
       "    }\n",
       "</style>\n",
       "<table border=\"1\" class=\"dataframe\">\n",
       "  <thead>\n",
       "    <tr style=\"text-align: right;\">\n",
       "      <th></th>\n",
       "      <th>geoid10</th>\n",
       "      <th>Primary Type</th>\n",
       "      <th>count</th>\n",
       "      <th>Year</th>\n",
       "    </tr>\n",
       "  </thead>\n",
       "  <tbody>\n",
       "    <tr>\n",
       "      <th>114562</th>\n",
       "      <td>17031620100</td>\n",
       "      <td>PUBLIC PEACE VIOLATION</td>\n",
       "      <td>3</td>\n",
       "      <td>2008</td>\n",
       "    </tr>\n",
       "    <tr>\n",
       "      <th>150305</th>\n",
       "      <td>17031150402</td>\n",
       "      <td>ASSAULT</td>\n",
       "      <td>4</td>\n",
       "      <td>2011</td>\n",
       "    </tr>\n",
       "    <tr>\n",
       "      <th>161846</th>\n",
       "      <td>17031020500</td>\n",
       "      <td>BURGLARY</td>\n",
       "      <td>28</td>\n",
       "      <td>2012</td>\n",
       "    </tr>\n",
       "    <tr>\n",
       "      <th>147169</th>\n",
       "      <td>17031842200</td>\n",
       "      <td>SEX OFFENSE</td>\n",
       "      <td>1</td>\n",
       "      <td>2010</td>\n",
       "    </tr>\n",
       "    <tr>\n",
       "      <th>167772</th>\n",
       "      <td>17031301100</td>\n",
       "      <td>WEAPONS VIOLATION</td>\n",
       "      <td>6</td>\n",
       "      <td>2012</td>\n",
       "    </tr>\n",
       "  </tbody>\n",
       "</table>\n",
       "</div>"
      ],
      "text/plain": [
       "            geoid10            Primary Type  count  Year\n",
       "114562  17031620100  PUBLIC PEACE VIOLATION      3  2008\n",
       "150305  17031150402                 ASSAULT      4  2011\n",
       "161846  17031020500                BURGLARY     28  2012\n",
       "147169  17031842200             SEX OFFENSE      1  2010\n",
       "167772  17031301100       WEAPONS VIOLATION      6  2012"
      ]
     },
     "execution_count": 57,
     "metadata": {},
     "output_type": "execute_result"
    }
   ],
   "source": [
    "# Save the combined results to a CSV file\n",
    "combined_results.to_csv('crime_data/crime_chicago_2001_2024_by_tract_type.csv', index=False)\n",
    "# Randomly sample 10,000 rows from the combined results, and display the first 5 rows.\n",
    "combined_results.sample(10000).head()"
   ]
  }
 ],
 "metadata": {
  "kernelspec": {
   "display_name": "geo",
   "language": "python",
   "name": "python3"
  },
  "language_info": {
   "codemirror_mode": {
    "name": "ipython",
    "version": 3
   },
   "file_extension": ".py",
   "mimetype": "text/x-python",
   "name": "python",
   "nbconvert_exporter": "python",
   "pygments_lexer": "ipython3",
   "version": "3.12.7"
  }
 },
 "nbformat": 4,
 "nbformat_minor": 2
}
