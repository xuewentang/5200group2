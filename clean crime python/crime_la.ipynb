{
 "cells": [
  {
   "cell_type": "code",
   "execution_count": 1,
   "metadata": {},
   "outputs": [],
   "source": [
    "import pandas as pd\n",
    "import geopandas as gpd"
   ]
  },
  {
   "cell_type": "code",
   "execution_count": 2,
   "metadata": {},
   "outputs": [],
   "source": [
    "# File paths\n",
    "census_tract_shp = 'la_census_tract/LA_City_2020_Census_Tracts_.shp'\n",
    "crime_csv = 'crime_data/crime_la_2020_2024.csv'\n",
    "\n",
    "# Generate list of years from 2001 to 2024\n",
    "years = list(range(2010, 2024))"
   ]
  },
  {
   "cell_type": "code",
   "execution_count": 3,
   "metadata": {},
   "outputs": [],
   "source": [
    "# Read in the census tract shapefile\n",
    "tracts_gdf = gpd.read_file(census_tract_shp)\n",
    "tracts_gdf = tracts_gdf.to_crs(epsg=4326)\n",
    "tracts_gdf = tracts_gdf[['geometry', 'CT20']]\n",
    "\n",
    "# Read in the crime points data, this is very large dataset\n",
    "crime_df = pd.read_csv(crime_csv)"
   ]
  },
  {
   "cell_type": "code",
   "execution_count": 4,
   "metadata": {},
   "outputs": [
    {
     "name": "stderr",
     "output_type": "stream",
     "text": [
      "/var/folders/6g/xqgvnv4s1h95kfz0bd14h3_h0000gn/T/ipykernel_96965/3146834728.py:2: UserWarning: Could not infer format, so each element will be parsed individually, falling back to `dateutil`. To ensure parsing is consistent and as-expected, please specify a format.\n",
      "  crime_df['Date Rptd'] = pd.to_datetime(crime_df['Date Rptd'])\n"
     ]
    }
   ],
   "source": [
    "# Convert the date to a datetime object\n",
    "crime_df['Date Rptd'] = pd.to_datetime(crime_df['Date Rptd'])\n",
    "crime_df['Year'] = crime_df['Date Rptd'].dt.year"
   ]
  },
  {
   "cell_type": "code",
   "execution_count": 5,
   "metadata": {},
   "outputs": [],
   "source": [
    "# Define funtion to aggreate crime points counts by census tract, by type of crime\n",
    "def aggregate_points(points_gdf, geometry_gdf):\n",
    "    points_gdf = gpd.sjoin(points_gdf, geometry_gdf, how='inner', predicate='within')\n",
    "    points_gdf = points_gdf.groupby(['CT20', 'Crm Cd Desc']).size().reset_index(name='count')\n",
    "    return points_gdf\n",
    "    "
   ]
  },
  {
   "cell_type": "code",
   "execution_count": 6,
   "metadata": {},
   "outputs": [],
   "source": [
    "# Create an empty dataframe to store the combined results\n",
    "combined_results = pd.DataFrame()\n",
    "\n",
    "# Loop through each year\n",
    "for year in years:\n",
    "    # Filter the crime data for the current year\n",
    "    crime_df_year = crime_df[crime_df['Year'] == year]\n",
    "    \n",
    "    # Convert the filtered crime data to a GeoDataFrame\n",
    "    crime_gdf_year = gpd.GeoDataFrame(crime_df_year, geometry=gpd.points_from_xy(crime_df_year.LON, crime_df_year.LAT))\n",
    "    crime_gdf_year = crime_gdf_year.set_crs(epsg=4326)\n",
    "    \n",
    "    # Aggregate the crime points by census tract\n",
    "    aggregated_points = aggregate_points(crime_gdf_year, tracts_gdf)\n",
    "    \n",
    "    # Add the year to the aggregated points dataframe\n",
    "    aggregated_points['Year'] = year\n",
    "    \n",
    "    # Append the results to the combined dataframe\n",
    "    combined_results = pd.concat([combined_results, aggregated_points], ignore_index=True)"
   ]
  },
  {
   "cell_type": "code",
   "execution_count": 7,
   "metadata": {},
   "outputs": [
    {
     "data": {
      "text/html": [
       "<div>\n",
       "<style scoped>\n",
       "    .dataframe tbody tr th:only-of-type {\n",
       "        vertical-align: middle;\n",
       "    }\n",
       "\n",
       "    .dataframe tbody tr th {\n",
       "        vertical-align: top;\n",
       "    }\n",
       "\n",
       "    .dataframe thead th {\n",
       "        text-align: right;\n",
       "    }\n",
       "</style>\n",
       "<table border=\"1\" class=\"dataframe\">\n",
       "  <thead>\n",
       "    <tr style=\"text-align: right;\">\n",
       "      <th></th>\n",
       "      <th>geoid10</th>\n",
       "      <th>Crm Cd Desc</th>\n",
       "      <th>count</th>\n",
       "      <th>Year</th>\n",
       "    </tr>\n",
       "  </thead>\n",
       "  <tbody>\n",
       "    <tr>\n",
       "      <th>131241</th>\n",
       "      <td>06037214904</td>\n",
       "      <td>THEFT PLAIN - PETTY ($950 &amp; UNDER)</td>\n",
       "      <td>6</td>\n",
       "      <td>2023</td>\n",
       "    </tr>\n",
       "    <tr>\n",
       "      <th>81562</th>\n",
       "      <td>06037135202</td>\n",
       "      <td>ROBBERY</td>\n",
       "      <td>1</td>\n",
       "      <td>2022</td>\n",
       "    </tr>\n",
       "    <tr>\n",
       "      <th>124162</th>\n",
       "      <td>06037192510</td>\n",
       "      <td>BEASTIALITY, CRIME AGAINST NATURE SEXUAL ASSLT...</td>\n",
       "      <td>1</td>\n",
       "      <td>2023</td>\n",
       "    </tr>\n",
       "    <tr>\n",
       "      <th>70742</th>\n",
       "      <td>06037980008</td>\n",
       "      <td>BATTERY WITH SEXUAL CONTACT</td>\n",
       "      <td>2</td>\n",
       "      <td>2021</td>\n",
       "    </tr>\n",
       "    <tr>\n",
       "      <th>42414</th>\n",
       "      <td>06037127210</td>\n",
       "      <td>VEHICLE - ATTEMPT STOLEN</td>\n",
       "      <td>1</td>\n",
       "      <td>2021</td>\n",
       "    </tr>\n",
       "  </tbody>\n",
       "</table>\n",
       "</div>"
      ],
      "text/plain": [
       "            geoid10                                        Crm Cd Desc  count  \\\n",
       "131241  06037214904                 THEFT PLAIN - PETTY ($950 & UNDER)      6   \n",
       "81562   06037135202                                            ROBBERY      1   \n",
       "124162  06037192510  BEASTIALITY, CRIME AGAINST NATURE SEXUAL ASSLT...      1   \n",
       "70742   06037980008                        BATTERY WITH SEXUAL CONTACT      2   \n",
       "42414   06037127210                           VEHICLE - ATTEMPT STOLEN      1   \n",
       "\n",
       "        Year  \n",
       "131241  2023  \n",
       "81562   2022  \n",
       "124162  2023  \n",
       "70742   2021  \n",
       "42414   2021  "
      ]
     },
     "execution_count": 7,
     "metadata": {},
     "output_type": "execute_result"
    }
   ],
   "source": [
    "# Create a 'geoid10' columns. goeid10 = '06037' + CT20\n",
    "combined_results['geoid10'] = '06037' + combined_results['CT20'].astype(str)\n",
    "combined_results = combined_results[['geoid10', 'Crm Cd Desc', 'count', 'Year']]\n",
    "\n",
    "\n",
    "# Save the combined results to a CSV file\n",
    "combined_results.to_csv('crime_data/crime_la_2020_2024_by_tract_type.csv', index=False)\n",
    "\n",
    "# Randomly sample 10,000 rows from the combined results, and display the first 5 rows.\n",
    "combined_results.sample(10000).head()"
   ]
  }
 ],
 "metadata": {
  "kernelspec": {
   "display_name": "geo",
   "language": "python",
   "name": "python3"
  },
  "language_info": {
   "codemirror_mode": {
    "name": "ipython",
    "version": 3
   },
   "file_extension": ".py",
   "mimetype": "text/x-python",
   "name": "python",
   "nbconvert_exporter": "python",
   "pygments_lexer": "ipython3",
   "version": "3.12.7"
  }
 },
 "nbformat": 4,
 "nbformat_minor": 2
}
